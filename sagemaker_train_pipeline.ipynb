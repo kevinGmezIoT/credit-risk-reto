{
 "cells": [
  {
   "cell_type": "code",
   "id": "initial_id",
   "metadata": {
    "collapsed": true,
    "ExecuteTime": {
     "end_time": "2024-12-09T18:37:32.338268Z",
     "start_time": "2024-12-09T18:37:32.334766Z"
    }
   },
   "source": [
    "import sagemaker\n",
    "import boto3"
   ],
   "outputs": [],
   "execution_count": 67
  },
  {
   "metadata": {
    "ExecuteTime": {
     "end_time": "2024-12-09T18:37:32.848267Z",
     "start_time": "2024-12-09T18:37:32.588767Z"
    }
   },
   "cell_type": "code",
   "source": [
    "sm_boto3 = boto3.client(\"sagemaker\")\n",
    "sess = sagemaker.Session()\n",
    "region = sess.boto_session.region_name\n",
    "bucket = 'retocreditriskkgv'\n",
    "print(\"Usando bucket:\", bucket)"
   ],
   "id": "2e79bda781d234c0",
   "outputs": [
    {
     "name": "stdout",
     "output_type": "stream",
     "text": [
      "Usando bucket: retocreditriskkgv\n"
     ]
    }
   ],
   "execution_count": 68
  },
  {
   "metadata": {
    "ExecuteTime": {
     "end_time": "2024-12-09T18:37:38.165264Z",
     "start_time": "2024-12-09T18:37:36.661766Z"
    }
   },
   "cell_type": "code",
   "source": [
    "sk_prefix = \"sagemaker/reto_credit_risk/sklearncontainer\"\n",
    "trainpath = sess.upload_data(\n",
    "    path=\"data/toTrain/train-V-1.csv\", bucket=bucket, key_prefix=sk_prefix\n",
    ")\n",
    "testpath = sess.upload_data(\n",
    "    path=\"data/toTrain/test-V-1.csv\", bucket=bucket, key_prefix=sk_prefix\n",
    ")"
   ],
   "id": "72f098811b576e48",
   "outputs": [],
   "execution_count": 75
  },
  {
   "metadata": {
    "ExecuteTime": {
     "end_time": "2024-12-09T18:37:38.817767Z",
     "start_time": "2024-12-09T18:37:38.810266Z"
    }
   },
   "cell_type": "code",
   "source": [
    "%%writefile script.py\n",
    "\n",
    "import argparse\n",
    "\n",
    "from sklearn.ensemble import RandomForestClassifier\n",
    "from sklearn.metrics import accuracy_score, classification_report, confusion_matrix, precision_score\n",
    "import sklearn\n",
    "import joblib\n",
    "import os\n",
    "import numpy as np\n",
    "import pandas as pd\n",
    "\n",
    "def model_fn(model_dir):\n",
    "    clf = joblib.load(os.path.join(model_dir, \"model.joblib\"))\n",
    "    return clf\n",
    "\n",
    "if __name__== \"__main__\":\n",
    "    print(\"[INFO] Extracting arguments\")\n",
    "    parser = argparse.ArgumentParser()\n",
    "    \n",
    "    parser.add_argument(\"--n_estimators\", type=int, default=100)\n",
    "    parser.add_argument(\"--random_state\", type=int, default=0)\n",
    "    \n",
    "    parser.add_argument(\"--model-dir\", type=str, default=os.environ.get(\"SM_MODEL_DIR\"))\n",
    "    parser.add_argument(\"--train\", type=str, default=os.environ.get(\"SM_CHANNEL_TRAIN\"))\n",
    "    parser.add_argument(\"--test\", type=str, default=os.environ.get(\"SM_CHANNEL_TEST\"))\n",
    "    parser.add_argument(\"--train-file\", type=str, default=\"train-V-1.csv\")\n",
    "    parser.add_argument(\"--test-file\", type=str, default=\"test-V-1.csv\")\n",
    "    \n",
    "    args, _ = parser.parse_known_args()\n",
    "    \n",
    "    print(\"SKLearn Version: \", sklearn.__version__)\n",
    "    print(\"Joblib Version: \", joblib.__version__)\n",
    "    \n",
    "    print(\"[INFO] Reading data\")\n",
    "    print()\n",
    "    train_df = pd.read_csv(os.path.join(args.train, args.train_file))\n",
    "    test_df = pd.read_csv(os.path.join(args.test, args.test_file))\n",
    "    \n",
    "    features = list(train_df.columns)\n",
    "    label = features.pop(-1)\n",
    "    \n",
    "    print(\"Building training and testing datasets\")\n",
    "    print()\n",
    "    \n",
    "    X_train = train_df[features]\n",
    "    X_test = test_df[features]\n",
    "    \n",
    "    y_train = train_df[label]\n",
    "    y_test = test_df[label]\n",
    "    \n",
    "    print('Column order: ')\n",
    "    print(features)\n",
    "    print()\n",
    "    \n",
    "    print('Label column is:', label)\n",
    "    print()\n",
    "    \n",
    "    print(\"Data Shape: \")\n",
    "    print()\n",
    "    print(\"----SHAPE OF TRAINING DATA (80%)\")\n",
    "    print(X_train.shape)\n",
    "    print(y_train.shape)\n",
    "    print()\n",
    "    print(\"----SHAPE OF TESTING DATA (20%)\")\n",
    "    print(X_test.shape)\n",
    "    print(y_test.shape)\n",
    "    print()\n",
    "    \n",
    "    print(\"Training RandomForest Model....\")\n",
    "    print()\n",
    "    model = RandomForestClassifier(n_estimators=args.n_estimators, random_state=args.random_state, verbose=True)\n",
    "    model.fit(X_train, y_train)\n",
    "    print()\n",
    "    \n",
    "    model_path = os.path.join(args.model_dir, \"model.joblib\")\n",
    "    joblib.dump(model, model_path)\n",
    "    print(\"Model persisted at \"+ model_path)\n",
    "    print()\n",
    "    \n",
    "    y_pred_test = model.predict(X_test)\n",
    "    test_acc = accuracy_score(y_test, y_pred_test)\n",
    "    test_rep = classification_report(y_test, y_pred_test)\n",
    "    \n",
    "    print()\n",
    "    print(\"--- METRICS RESULTS FOR TESTING DATA ---\")\n",
    "    print()\n",
    "    print(\"Total Rows are:\", X_test.shape[0])\n",
    "    print(\"[TESTING] Model accuracy is: \", test_acc)\n",
    "    print(\"[TESTING] Testing Report: \")\n",
    "    print(test_rep)\n",
    "    "
   ],
   "id": "c836b968aa33a15",
   "outputs": [
    {
     "name": "stdout",
     "output_type": "stream",
     "text": [
      "Overwriting script.py\n"
     ]
    }
   ],
   "execution_count": 76
  },
  {
   "metadata": {
    "ExecuteTime": {
     "end_time": "2024-12-09T18:37:41.700764Z",
     "start_time": "2024-12-09T18:37:41.641266Z"
    }
   },
   "cell_type": "code",
   "source": [
    "from sagemaker.sklearn.estimator import SKLearn\n",
    "\n",
    "FRAMEWORK_VERSION = \"0.23-1\"\n",
    "\n",
    "sklearn_estimator = SKLearn(\n",
    "    entry_point=\"script.py\",\n",
    "    role=\"arn:aws:iam::940583586544:role/sagemaker_credit_risk\",\n",
    "    instance_count=1,\n",
    "    instance_type=\"ml.m5.large\",\n",
    "    framework_version=FRAMEWORK_VERSION,\n",
    "    base_job_name = \"RF-custom-sklearn\",\n",
    "    hyperparameters={\n",
    "        \"n_estimators\": 100,\n",
    "        \"random_state\": 0,\n",
    "    },\n",
    "    use_spot_instances= True,\n",
    "    max_wait = 7200,\n",
    "    max_run = 3600\n",
    ")"
   ],
   "id": "b44aa2ae343773ad",
   "outputs": [],
   "execution_count": 77
  },
  {
   "metadata": {
    "ExecuteTime": {
     "end_time": "2024-12-09T18:40:50.359968Z",
     "start_time": "2024-12-09T18:37:42.189766Z"
    }
   },
   "cell_type": "code",
   "source": "sklearn_estimator.fit({\"train\":trainpath, \"test\": testpath}, wait=True, logs=True)",
   "id": "fb2e83066b168717",
   "outputs": [
    {
     "data": {
      "text/plain": [
       "\u001B[2;36m[12/09/24 13:37:42]\u001B[0m\u001B[2;36m \u001B[0m\u001B[1;38;2;0;105;255mINFO    \u001B[0m SageMaker Python SDK will collect telemetry to help us better  \u001B]8;id=489577;file://C:\\Users\\kevin\\anaconda3\\envs\\llm-aws\\Lib\\site-packages\\sagemaker\\telemetry\\telemetry_logging.py\u001B\\\u001B[2mtelemetry_logging.py\u001B[0m\u001B]8;;\u001B\\\u001B[2m:\u001B[0m\u001B]8;id=443522;file://C:\\Users\\kevin\\anaconda3\\envs\\llm-aws\\Lib\\site-packages\\sagemaker\\telemetry\\telemetry_logging.py#90\u001B\\\u001B[2m90\u001B[0m\u001B]8;;\u001B\\\n",
       "\u001B[2;36m                    \u001B[0m         understand our user's needs, diagnose issues, and deliver      \u001B[2m                       \u001B[0m\n",
       "\u001B[2;36m                    \u001B[0m         additional features.                                           \u001B[2m                       \u001B[0m\n",
       "\u001B[2;36m                    \u001B[0m         To opt out of telemetry, please disable via TelemetryOptOut    \u001B[2m                       \u001B[0m\n",
       "\u001B[2;36m                    \u001B[0m         parameter in SDK defaults config. For more information, refer  \u001B[2m                       \u001B[0m\n",
       "\u001B[2;36m                    \u001B[0m         to                                                             \u001B[2m                       \u001B[0m\n",
       "\u001B[2;36m                    \u001B[0m         \u001B[4;38;2;0;105;255mhttps://sagemaker.readthedocs.io/en/stable/overview.html#confi\u001B[0m \u001B[2m                       \u001B[0m\n",
       "\u001B[2;36m                    \u001B[0m         \u001B[4;38;2;0;105;255mguring-and-using-defaults-with-the-sagemaker-python-sdk.\u001B[0m       \u001B[2m                       \u001B[0m\n"
      ],
      "text/html": [
       "<pre style=\"white-space:pre;overflow-x:auto;line-height:normal;font-family:Menlo,'DejaVu Sans Mono',consolas,'Courier New',monospace\"><span style=\"color: #7fbfbf; text-decoration-color: #7fbfbf\">[12/09/24 13:37:42] </span><span style=\"color: #0069ff; text-decoration-color: #0069ff; font-weight: bold\">INFO    </span> SageMaker Python SDK will collect telemetry to help us better  <a href=\"file://C:\\Users\\kevin\\anaconda3\\envs\\llm-aws\\Lib\\site-packages\\sagemaker\\telemetry\\telemetry_logging.py\" target=\"_blank\"><span style=\"color: #7f7f7f; text-decoration-color: #7f7f7f\">telemetry_logging.py</span></a><span style=\"color: #7f7f7f; text-decoration-color: #7f7f7f\">:</span><a href=\"file://C:\\Users\\kevin\\anaconda3\\envs\\llm-aws\\Lib\\site-packages\\sagemaker\\telemetry\\telemetry_logging.py#90\" target=\"_blank\"><span style=\"color: #7f7f7f; text-decoration-color: #7f7f7f\">90</span></a>\n",
       "<span style=\"color: #7fbfbf; text-decoration-color: #7fbfbf\">                    </span>         understand our user's needs, diagnose issues, and deliver      <span style=\"color: #7f7f7f; text-decoration-color: #7f7f7f\">                       </span>\n",
       "<span style=\"color: #7fbfbf; text-decoration-color: #7fbfbf\">                    </span>         additional features.                                           <span style=\"color: #7f7f7f; text-decoration-color: #7f7f7f\">                       </span>\n",
       "<span style=\"color: #7fbfbf; text-decoration-color: #7fbfbf\">                    </span>         To opt out of telemetry, please disable via TelemetryOptOut    <span style=\"color: #7f7f7f; text-decoration-color: #7f7f7f\">                       </span>\n",
       "<span style=\"color: #7fbfbf; text-decoration-color: #7fbfbf\">                    </span>         parameter in SDK defaults config. For more information, refer  <span style=\"color: #7f7f7f; text-decoration-color: #7f7f7f\">                       </span>\n",
       "<span style=\"color: #7fbfbf; text-decoration-color: #7fbfbf\">                    </span>         to                                                             <span style=\"color: #7f7f7f; text-decoration-color: #7f7f7f\">                       </span>\n",
       "<span style=\"color: #7fbfbf; text-decoration-color: #7fbfbf\">                    </span>         <span style=\"color: #0069ff; text-decoration-color: #0069ff; text-decoration: underline\">https://sagemaker.readthedocs.io/en/stable/overview.html#confi</span> <span style=\"color: #7f7f7f; text-decoration-color: #7f7f7f\">                       </span>\n",
       "<span style=\"color: #7fbfbf; text-decoration-color: #7fbfbf\">                    </span>         <span style=\"color: #0069ff; text-decoration-color: #0069ff; text-decoration: underline\">guring-and-using-defaults-with-the-sagemaker-python-sdk.</span>       <span style=\"color: #7f7f7f; text-decoration-color: #7f7f7f\">                       </span>\n",
       "</pre>\n"
      ]
     },
     "metadata": {},
     "output_type": "display_data"
    },
    {
     "data": {
      "text/plain": [
       "\u001B[2;36m[12/09/24 13:37:46]\u001B[0m\u001B[2;36m \u001B[0m\u001B[1;38;2;0;105;255mINFO    \u001B[0m Creating training-job with name:                                       \u001B]8;id=224662;file://C:\\Users\\kevin\\anaconda3\\envs\\llm-aws\\Lib\\site-packages\\sagemaker\\session.py\u001B\\\u001B[2msession.py\u001B[0m\u001B]8;;\u001B\\\u001B[2m:\u001B[0m\u001B]8;id=524276;file://C:\\Users\\kevin\\anaconda3\\envs\\llm-aws\\Lib\\site-packages\\sagemaker\\session.py#1042\u001B\\\u001B[2m1042\u001B[0m\u001B]8;;\u001B\\\n",
       "\u001B[2;36m                    \u001B[0m         RF-custom-sklearn-\u001B[1;36m2024\u001B[0m-12-09-18-37-42-195                              \u001B[2m               \u001B[0m\n"
      ],
      "text/html": [
       "<pre style=\"white-space:pre;overflow-x:auto;line-height:normal;font-family:Menlo,'DejaVu Sans Mono',consolas,'Courier New',monospace\"><span style=\"color: #7fbfbf; text-decoration-color: #7fbfbf\">[12/09/24 13:37:46] </span><span style=\"color: #0069ff; text-decoration-color: #0069ff; font-weight: bold\">INFO    </span> Creating training-job with name:                                       <a href=\"file://C:\\Users\\kevin\\anaconda3\\envs\\llm-aws\\Lib\\site-packages\\sagemaker\\session.py\" target=\"_blank\"><span style=\"color: #7f7f7f; text-decoration-color: #7f7f7f\">session.py</span></a><span style=\"color: #7f7f7f; text-decoration-color: #7f7f7f\">:</span><a href=\"file://C:\\Users\\kevin\\anaconda3\\envs\\llm-aws\\Lib\\site-packages\\sagemaker\\session.py#1042\" target=\"_blank\"><span style=\"color: #7f7f7f; text-decoration-color: #7f7f7f\">1042</span></a>\n",
       "<span style=\"color: #7fbfbf; text-decoration-color: #7fbfbf\">                    </span>         RF-custom-sklearn-<span style=\"color: #008080; text-decoration-color: #008080; font-weight: bold\">2024</span>-12-09-18-37-42-195                              <span style=\"color: #7f7f7f; text-decoration-color: #7f7f7f\">               </span>\n",
       "</pre>\n"
      ]
     },
     "metadata": {},
     "output_type": "display_data"
    },
    {
     "name": "stdout",
     "output_type": "stream",
     "text": [
      "2024-12-09 18:37:50 Starting - Starting the training job...\n",
      "2024-12-09 18:38:04 Starting - Preparing the instances for training...\n",
      "2024-12-09 18:38:40 Downloading - Downloading input data...\n",
      "2024-12-09 18:39:06 Downloading - Downloading the training image...\n",
      "2024-12-09 18:39:57 Training - Training image download completed. Training in progress.\n",
      "2024-12-09 18:39:57 Uploading - Uploading generated training model\u001B[34m2024-12-09 18:39:50,546 sagemaker-containers INFO     Imported framework sagemaker_sklearn_container.training\u001B[0m\n",
      "\u001B[34m2024-12-09 18:39:50,549 sagemaker-training-toolkit INFO     No GPUs detected (normal if no gpus installed)\u001B[0m\n",
      "\u001B[34m2024-12-09 18:39:50,593 sagemaker_sklearn_container.training INFO     Invoking user training script.\u001B[0m\n",
      "\u001B[34m2024-12-09 18:39:50,741 sagemaker-training-toolkit INFO     No GPUs detected (normal if no gpus installed)\u001B[0m\n",
      "\u001B[34m2024-12-09 18:39:50,753 sagemaker-training-toolkit INFO     No GPUs detected (normal if no gpus installed)\u001B[0m\n",
      "\u001B[34m2024-12-09 18:39:50,765 sagemaker-training-toolkit INFO     No GPUs detected (normal if no gpus installed)\u001B[0m\n",
      "\u001B[34m2024-12-09 18:39:50,774 sagemaker-training-toolkit INFO     Invoking user script\u001B[0m\n",
      "\u001B[34mTraining Env:\u001B[0m\n",
      "\u001B[34m{\n",
      "    \"additional_framework_parameters\": {},\n",
      "    \"channel_input_dirs\": {\n",
      "        \"test\": \"/opt/ml/input/data/test\",\n",
      "        \"train\": \"/opt/ml/input/data/train\"\n",
      "    },\n",
      "    \"current_host\": \"algo-1\",\n",
      "    \"framework_module\": \"sagemaker_sklearn_container.training:main\",\n",
      "    \"hosts\": [\n",
      "        \"algo-1\"\n",
      "    ],\n",
      "    \"hyperparameters\": {\n",
      "        \"n_estimators\": 100,\n",
      "        \"random_state\": 0\n",
      "    },\n",
      "    \"input_config_dir\": \"/opt/ml/input/config\",\n",
      "    \"input_data_config\": {\n",
      "        \"test\": {\n",
      "            \"TrainingInputMode\": \"File\",\n",
      "            \"S3DistributionType\": \"FullyReplicated\",\n",
      "            \"RecordWrapperType\": \"None\"\n",
      "        },\n",
      "        \"train\": {\n",
      "            \"TrainingInputMode\": \"File\",\n",
      "            \"S3DistributionType\": \"FullyReplicated\",\n",
      "            \"RecordWrapperType\": \"None\"\n",
      "        }\n",
      "    },\n",
      "    \"input_dir\": \"/opt/ml/input\",\n",
      "    \"is_master\": true,\n",
      "    \"job_name\": \"RF-custom-sklearn-2024-12-09-18-37-42-195\",\n",
      "    \"log_level\": 20,\n",
      "    \"master_hostname\": \"algo-1\",\n",
      "    \"model_dir\": \"/opt/ml/model\",\n",
      "    \"module_dir\": \"s3://sagemaker-us-east-1-940583586544/RF-custom-sklearn-2024-12-09-18-37-42-195/source/sourcedir.tar.gz\",\n",
      "    \"module_name\": \"script\",\n",
      "    \"network_interface_name\": \"eth0\",\n",
      "    \"num_cpus\": 2,\n",
      "    \"num_gpus\": 0,\n",
      "    \"output_data_dir\": \"/opt/ml/output/data\",\n",
      "    \"output_dir\": \"/opt/ml/output\",\n",
      "    \"output_intermediate_dir\": \"/opt/ml/output/intermediate\",\n",
      "    \"resource_config\": {\n",
      "        \"current_host\": \"algo-1\",\n",
      "        \"current_instance_type\": \"ml.m5.large\",\n",
      "        \"current_group_name\": \"homogeneousCluster\",\n",
      "        \"hosts\": [\n",
      "            \"algo-1\"\n",
      "        ],\n",
      "        \"instance_groups\": [\n",
      "            {\n",
      "                \"instance_group_name\": \"homogeneousCluster\",\n",
      "                \"instance_type\": \"ml.m5.large\",\n",
      "                \"hosts\": [\n",
      "                    \"algo-1\"\n",
      "                ]\n",
      "            }\n",
      "        ],\n",
      "        \"network_interface_name\": \"eth0\"\n",
      "    },\n",
      "    \"user_entry_point\": \"script.py\"\u001B[0m\n",
      "\u001B[34m}\u001B[0m\n",
      "\u001B[34mEnvironment variables:\u001B[0m\n",
      "\u001B[34mSM_HOSTS=[\"algo-1\"]\u001B[0m\n",
      "\u001B[34mSM_NETWORK_INTERFACE_NAME=eth0\u001B[0m\n",
      "\u001B[34mSM_HPS={\"n_estimators\":100,\"random_state\":0}\u001B[0m\n",
      "\u001B[34mSM_USER_ENTRY_POINT=script.py\u001B[0m\n",
      "\u001B[34mSM_FRAMEWORK_PARAMS={}\u001B[0m\n",
      "\u001B[34mSM_RESOURCE_CONFIG={\"current_group_name\":\"homogeneousCluster\",\"current_host\":\"algo-1\",\"current_instance_type\":\"ml.m5.large\",\"hosts\":[\"algo-1\"],\"instance_groups\":[{\"hosts\":[\"algo-1\"],\"instance_group_name\":\"homogeneousCluster\",\"instance_type\":\"ml.m5.large\"}],\"network_interface_name\":\"eth0\"}\u001B[0m\n",
      "\u001B[34mSM_INPUT_DATA_CONFIG={\"test\":{\"RecordWrapperType\":\"None\",\"S3DistributionType\":\"FullyReplicated\",\"TrainingInputMode\":\"File\"},\"train\":{\"RecordWrapperType\":\"None\",\"S3DistributionType\":\"FullyReplicated\",\"TrainingInputMode\":\"File\"}}\u001B[0m\n",
      "\u001B[34mSM_OUTPUT_DATA_DIR=/opt/ml/output/data\u001B[0m\n",
      "\u001B[34mSM_CHANNELS=[\"test\",\"train\"]\u001B[0m\n",
      "\u001B[34mSM_CURRENT_HOST=algo-1\u001B[0m\n",
      "\u001B[34mSM_MODULE_NAME=script\u001B[0m\n",
      "\u001B[34mSM_LOG_LEVEL=20\u001B[0m\n",
      "\u001B[34mSM_FRAMEWORK_MODULE=sagemaker_sklearn_container.training:main\u001B[0m\n",
      "\u001B[34mSM_INPUT_DIR=/opt/ml/input\u001B[0m\n",
      "\u001B[34mSM_INPUT_CONFIG_DIR=/opt/ml/input/config\u001B[0m\n",
      "\u001B[34mSM_OUTPUT_DIR=/opt/ml/output\u001B[0m\n",
      "\u001B[34mSM_NUM_CPUS=2\u001B[0m\n",
      "\u001B[34mSM_NUM_GPUS=0\u001B[0m\n",
      "\u001B[34mSM_MODEL_DIR=/opt/ml/model\u001B[0m\n",
      "\u001B[34mSM_MODULE_DIR=s3://sagemaker-us-east-1-940583586544/RF-custom-sklearn-2024-12-09-18-37-42-195/source/sourcedir.tar.gz\u001B[0m\n",
      "\u001B[34mSM_TRAINING_ENV={\"additional_framework_parameters\":{},\"channel_input_dirs\":{\"test\":\"/opt/ml/input/data/test\",\"train\":\"/opt/ml/input/data/train\"},\"current_host\":\"algo-1\",\"framework_module\":\"sagemaker_sklearn_container.training:main\",\"hosts\":[\"algo-1\"],\"hyperparameters\":{\"n_estimators\":100,\"random_state\":0},\"input_config_dir\":\"/opt/ml/input/config\",\"input_data_config\":{\"test\":{\"RecordWrapperType\":\"None\",\"S3DistributionType\":\"FullyReplicated\",\"TrainingInputMode\":\"File\"},\"train\":{\"RecordWrapperType\":\"None\",\"S3DistributionType\":\"FullyReplicated\",\"TrainingInputMode\":\"File\"}},\"input_dir\":\"/opt/ml/input\",\"is_master\":true,\"job_name\":\"RF-custom-sklearn-2024-12-09-18-37-42-195\",\"log_level\":20,\"master_hostname\":\"algo-1\",\"model_dir\":\"/opt/ml/model\",\"module_dir\":\"s3://sagemaker-us-east-1-940583586544/RF-custom-sklearn-2024-12-09-18-37-42-195/source/sourcedir.tar.gz\",\"module_name\":\"script\",\"network_interface_name\":\"eth0\",\"num_cpus\":2,\"num_gpus\":0,\"output_data_dir\":\"/opt/ml/output/data\",\"output_dir\":\"/opt/ml/output\",\"output_intermediate_dir\":\"/opt/ml/output/intermediate\",\"resource_config\":{\"current_group_name\":\"homogeneousCluster\",\"current_host\":\"algo-1\",\"current_instance_type\":\"ml.m5.large\",\"hosts\":[\"algo-1\"],\"instance_groups\":[{\"hosts\":[\"algo-1\"],\"instance_group_name\":\"homogeneousCluster\",\"instance_type\":\"ml.m5.large\"}],\"network_interface_name\":\"eth0\"},\"user_entry_point\":\"script.py\"}\u001B[0m\n",
      "\u001B[34mSM_USER_ARGS=[\"--n_estimators\",\"100\",\"--random_state\",\"0\"]\u001B[0m\n",
      "\u001B[34mSM_OUTPUT_INTERMEDIATE_DIR=/opt/ml/output/intermediate\u001B[0m\n",
      "\u001B[34mSM_CHANNEL_TEST=/opt/ml/input/data/test\u001B[0m\n",
      "\u001B[34mSM_CHANNEL_TRAIN=/opt/ml/input/data/train\u001B[0m\n",
      "\u001B[34mSM_HP_N_ESTIMATORS=100\u001B[0m\n",
      "\u001B[34mSM_HP_RANDOM_STATE=0\u001B[0m\n",
      "\u001B[34mPYTHONPATH=/opt/ml/code:/miniconda3/bin:/miniconda3/lib/python37.zip:/miniconda3/lib/python3.7:/miniconda3/lib/python3.7/lib-dynload:/miniconda3/lib/python3.7/site-packages\u001B[0m\n",
      "\u001B[34mInvoking script with the following command:\u001B[0m\n",
      "\u001B[34m/miniconda3/bin/python script.py --n_estimators 100 --random_state 0\u001B[0m\n",
      "\u001B[34m[INFO] Extracting arguments\u001B[0m\n",
      "\u001B[34mSKLearn Version:  0.23.2\u001B[0m\n",
      "\u001B[34mJoblib Version:  1.2.0\u001B[0m\n",
      "\u001B[34m[INFO] Reading data\u001B[0m\n",
      "\u001B[34mBuilding training and testing datasets\u001B[0m\n",
      "\u001B[34mColumn order: \u001B[0m\n",
      "\u001B[34m['Age', 'Job', 'Credit amount', 'Duration', 'Sex_male', 'Housing_own', 'Housing_rent', 'Saving accounts_moderate', 'Saving accounts_quite rich', 'Saving accounts_rich', 'Checking account_moderate', 'Checking account_rich', 'Purpose_car', 'Purpose_domestic appliances', 'Purpose_education', 'Purpose_furniture/equipment', 'Purpose_radio/TV', 'Purpose_repairs', 'Purpose_vacation/others']\u001B[0m\n",
      "\u001B[34mLabel column is: target\u001B[0m\n",
      "\u001B[34mData Shape: \u001B[0m\n",
      "\u001B[34m----SHAPE OF TRAINING DATA (80%)\u001B[0m\n",
      "\u001B[34m(800, 19)\u001B[0m\n",
      "\u001B[34m(800,)\u001B[0m\n",
      "\u001B[34m----SHAPE OF TESTING DATA (20%)\u001B[0m\n",
      "\u001B[34m(200, 19)\u001B[0m\n",
      "\u001B[34m(200,)\u001B[0m\n",
      "\u001B[34mTraining RandomForest Model....\u001B[0m\n",
      "\u001B[34m[Parallel(n_jobs=1)]: Using backend SequentialBackend with 1 concurrent workers.\u001B[0m\n",
      "\u001B[34m[Parallel(n_jobs=1)]: Done 100 out of 100 | elapsed:    0.1s finished\u001B[0m\n",
      "\u001B[34mModel persisted at /opt/ml/model/model.joblib\u001B[0m\n",
      "\u001B[34m[Parallel(n_jobs=1)]: Using backend SequentialBackend with 1 concurrent workers.\u001B[0m\n",
      "\u001B[34m[Parallel(n_jobs=1)]: Done 100 out of 100 | elapsed:    0.0s finished\u001B[0m\n",
      "\u001B[34m--- METRICS RESULTS FOR TESTING DATA ---\u001B[0m\n",
      "\u001B[34mTotal Rows are: 200\u001B[0m\n",
      "\u001B[34m[TESTING] Model accuracy is:  0.895\u001B[0m\n",
      "\u001B[34m[TESTING] Testing Report: \n",
      "              precision    recall  f1-score   support\n",
      "           0       0.91      0.96      0.93       156\n",
      "           1       0.83      0.66      0.73        44\n",
      "    accuracy                           0.90       200\n",
      "   macro avg       0.87      0.81      0.83       200\u001B[0m\n",
      "\u001B[34mweighted avg       0.89      0.90      0.89       200\u001B[0m\n",
      "\u001B[34m2024-12-09 18:39:51,897 sagemaker-containers INFO     Reporting training SUCCESS\u001B[0m\n",
      "\n",
      "2024-12-09 18:40:10 Completed - Training job completed\n",
      "Training seconds: 90\n",
      "Billable seconds: 34\n",
      "Managed Spot Training savings: 62.2%\n"
     ]
    }
   ],
   "execution_count": 78
  },
  {
   "metadata": {
    "ExecuteTime": {
     "end_time": "2024-12-09T18:40:56.441041Z",
     "start_time": "2024-12-09T18:40:50.361937Z"
    }
   },
   "cell_type": "code",
   "source": [
    "sklearn_estimator.latest_training_job.wait(logs=\"None\")\n",
    "artifact = sm_boto3.describe_training_job(\n",
    "    TrainingJobName=sklearn_estimator.latest_training_job.name\n",
    ")[\"ModelArtifacts\"][\"S3ModelArtifacts\"]\n",
    "\n",
    "print(\"Model Artifact persisted at \", artifact)"
   ],
   "id": "d028ca16b0c52329",
   "outputs": [
    {
     "name": "stdout",
     "output_type": "stream",
     "text": [
      "\n",
      "2024-12-09 18:40:10 Starting - Preparing the instances for training\n",
      "2024-12-09 18:40:10 Downloading - Downloading the training image\n",
      "2024-12-09 18:40:10 Training - Training image download completed. Training in progress.\n",
      "2024-12-09 18:40:10 Uploading - Uploading generated training model\n",
      "2024-12-09 18:40:10 Completed - Training job completed\n",
      "Model Artifact persisted at  s3://sagemaker-us-east-1-940583586544/RF-custom-sklearn-2024-12-09-18-37-42-195/output/model.tar.gz\n"
     ]
    }
   ],
   "execution_count": 79
  },
  {
   "metadata": {
    "ExecuteTime": {
     "end_time": "2024-12-09T18:40:56.447041Z",
     "start_time": "2024-12-09T18:40:56.442542Z"
    }
   },
   "cell_type": "code",
   "source": "artifact",
   "id": "773897f54f8b866d",
   "outputs": [
    {
     "data": {
      "text/plain": [
       "'s3://sagemaker-us-east-1-940583586544/RF-custom-sklearn-2024-12-09-18-37-42-195/output/model.tar.gz'"
      ]
     },
     "execution_count": 80,
     "metadata": {},
     "output_type": "execute_result"
    }
   ],
   "execution_count": 80
  },
  {
   "metadata": {
    "ExecuteTime": {
     "end_time": "2024-12-09T18:40:56.454541Z",
     "start_time": "2024-12-09T18:40:56.449042Z"
    }
   },
   "cell_type": "code",
   "source": [
    "from sagemaker.sklearn.model import SKLearnModel\n",
    "from time import gmtime, strftime\n",
    "\n",
    "model_name = \"Credit-risk-model-\" + strftime(\"%Y-%m-%d-%H-%M-%S\", gmtime())\n",
    "model = SKLearnModel(\n",
    "    name = model_name,\n",
    "    model_data = artifact,\n",
    "    role=\"arn:aws:iam::940583586544:role/sagemaker_credit_risk\",\n",
    "    entry_point=\"script.py\",\n",
    "    framework_version=FRAMEWORK_VERSION\n",
    ")"
   ],
   "id": "e5275582771fa16f",
   "outputs": [],
   "execution_count": 81
  },
  {
   "metadata": {
    "ExecuteTime": {
     "end_time": "2024-12-09T18:40:56.464541Z",
     "start_time": "2024-12-09T18:40:56.456542Z"
    }
   },
   "cell_type": "code",
   "source": "model",
   "id": "ce084b89106124fd",
   "outputs": [
    {
     "data": {
      "text/plain": [
       "<sagemaker.sklearn.model.SKLearnModel at 0x2529c321510>"
      ]
     },
     "execution_count": 82,
     "metadata": {},
     "output_type": "execute_result"
    }
   ],
   "execution_count": 82
  },
  {
   "metadata": {
    "ExecuteTime": {
     "end_time": "2024-12-09T18:45:04.201991Z",
     "start_time": "2024-12-09T18:40:56.466544Z"
    }
   },
   "cell_type": "code",
   "source": [
    "endpoint_name = \"Credit-risk-model-\" + strftime(\"%Y-%m-%d-%H-%M-%S\", gmtime())\n",
    "print(\"EndpointName={}\".format(endpoint_name))\n",
    "\n",
    "predictor = model.deploy(\n",
    "    initial_instance_count=1,\n",
    "    instance_type=\"ml.m4.xlarge\",\n",
    "    endpoint_name=endpoint_name\n",
    ")"
   ],
   "id": "8e664f3bfdc3422",
   "outputs": [
    {
     "name": "stdout",
     "output_type": "stream",
     "text": [
      "EndpointName=Credit-risk-model-2024-12-09-18-40-56\n"
     ]
    },
    {
     "data": {
      "text/plain": [
       "\u001B[2;36m[12/09/24 13:41:00]\u001B[0m\u001B[2;36m \u001B[0m\u001B[1;38;2;0;105;255mINFO    \u001B[0m Creating model with name: Credit-risk-model-\u001B[1;36m2024\u001B[0m-\u001B[1;36m12\u001B[0m-\u001B[1;36m09\u001B[0m-\u001B[1;36m18\u001B[0m-\u001B[1;36m40\u001B[0m-\u001B[1;36m56\u001B[0m        \u001B]8;id=903689;file://C:\\Users\\kevin\\anaconda3\\envs\\llm-aws\\Lib\\site-packages\\sagemaker\\session.py\u001B\\\u001B[2msession.py\u001B[0m\u001B]8;;\u001B\\\u001B[2m:\u001B[0m\u001B]8;id=819848;file://C:\\Users\\kevin\\anaconda3\\envs\\llm-aws\\Lib\\site-packages\\sagemaker\\session.py#4094\u001B\\\u001B[2m4094\u001B[0m\u001B]8;;\u001B\\\n"
      ],
      "text/html": [
       "<pre style=\"white-space:pre;overflow-x:auto;line-height:normal;font-family:Menlo,'DejaVu Sans Mono',consolas,'Courier New',monospace\"><span style=\"color: #7fbfbf; text-decoration-color: #7fbfbf\">[12/09/24 13:41:00] </span><span style=\"color: #0069ff; text-decoration-color: #0069ff; font-weight: bold\">INFO    </span> Creating model with name: Credit-risk-model-<span style=\"color: #008080; text-decoration-color: #008080; font-weight: bold\">2024</span>-<span style=\"color: #008080; text-decoration-color: #008080; font-weight: bold\">12</span>-<span style=\"color: #008080; text-decoration-color: #008080; font-weight: bold\">09</span>-<span style=\"color: #008080; text-decoration-color: #008080; font-weight: bold\">18</span>-<span style=\"color: #008080; text-decoration-color: #008080; font-weight: bold\">40</span>-<span style=\"color: #008080; text-decoration-color: #008080; font-weight: bold\">56</span>        <a href=\"file://C:\\Users\\kevin\\anaconda3\\envs\\llm-aws\\Lib\\site-packages\\sagemaker\\session.py\" target=\"_blank\"><span style=\"color: #7f7f7f; text-decoration-color: #7f7f7f\">session.py</span></a><span style=\"color: #7f7f7f; text-decoration-color: #7f7f7f\">:</span><a href=\"file://C:\\Users\\kevin\\anaconda3\\envs\\llm-aws\\Lib\\site-packages\\sagemaker\\session.py#4094\" target=\"_blank\"><span style=\"color: #7f7f7f; text-decoration-color: #7f7f7f\">4094</span></a>\n",
       "</pre>\n"
      ]
     },
     "metadata": {},
     "output_type": "display_data"
    },
    {
     "data": {
      "text/plain": [
       "\u001B[2;36m[12/09/24 13:41:02]\u001B[0m\u001B[2;36m \u001B[0m\u001B[1;38;2;0;105;255mINFO    \u001B[0m Creating endpoint-config with name                                     \u001B]8;id=922657;file://C:\\Users\\kevin\\anaconda3\\envs\\llm-aws\\Lib\\site-packages\\sagemaker\\session.py\u001B\\\u001B[2msession.py\u001B[0m\u001B]8;;\u001B\\\u001B[2m:\u001B[0m\u001B]8;id=480929;file://C:\\Users\\kevin\\anaconda3\\envs\\llm-aws\\Lib\\site-packages\\sagemaker\\session.py#5889\u001B\\\u001B[2m5889\u001B[0m\u001B]8;;\u001B\\\n",
       "\u001B[2;36m                    \u001B[0m         Credit-risk-model-\u001B[1;36m2024\u001B[0m-\u001B[1;36m12\u001B[0m-\u001B[1;36m09\u001B[0m-\u001B[1;36m18\u001B[0m-\u001B[1;36m40\u001B[0m-\u001B[1;36m56\u001B[0m                                  \u001B[2m               \u001B[0m\n"
      ],
      "text/html": [
       "<pre style=\"white-space:pre;overflow-x:auto;line-height:normal;font-family:Menlo,'DejaVu Sans Mono',consolas,'Courier New',monospace\"><span style=\"color: #7fbfbf; text-decoration-color: #7fbfbf\">[12/09/24 13:41:02] </span><span style=\"color: #0069ff; text-decoration-color: #0069ff; font-weight: bold\">INFO    </span> Creating endpoint-config with name                                     <a href=\"file://C:\\Users\\kevin\\anaconda3\\envs\\llm-aws\\Lib\\site-packages\\sagemaker\\session.py\" target=\"_blank\"><span style=\"color: #7f7f7f; text-decoration-color: #7f7f7f\">session.py</span></a><span style=\"color: #7f7f7f; text-decoration-color: #7f7f7f\">:</span><a href=\"file://C:\\Users\\kevin\\anaconda3\\envs\\llm-aws\\Lib\\site-packages\\sagemaker\\session.py#5889\" target=\"_blank\"><span style=\"color: #7f7f7f; text-decoration-color: #7f7f7f\">5889</span></a>\n",
       "<span style=\"color: #7fbfbf; text-decoration-color: #7fbfbf\">                    </span>         Credit-risk-model-<span style=\"color: #008080; text-decoration-color: #008080; font-weight: bold\">2024</span>-<span style=\"color: #008080; text-decoration-color: #008080; font-weight: bold\">12</span>-<span style=\"color: #008080; text-decoration-color: #008080; font-weight: bold\">09</span>-<span style=\"color: #008080; text-decoration-color: #008080; font-weight: bold\">18</span>-<span style=\"color: #008080; text-decoration-color: #008080; font-weight: bold\">40</span>-<span style=\"color: #008080; text-decoration-color: #008080; font-weight: bold\">56</span>                                  <span style=\"color: #7f7f7f; text-decoration-color: #7f7f7f\">               </span>\n",
       "</pre>\n"
      ]
     },
     "metadata": {},
     "output_type": "display_data"
    },
    {
     "data": {
      "text/plain": [
       "\u001B[2;36m                   \u001B[0m\u001B[2;36m \u001B[0m\u001B[1;38;2;0;105;255mINFO    \u001B[0m Creating endpoint with name Credit-risk-model-\u001B[1;36m2024\u001B[0m-\u001B[1;36m12\u001B[0m-\u001B[1;36m09\u001B[0m-\u001B[1;36m18\u001B[0m-\u001B[1;36m40\u001B[0m-\u001B[1;36m56\u001B[0m      \u001B]8;id=470697;file://C:\\Users\\kevin\\anaconda3\\envs\\llm-aws\\Lib\\site-packages\\sagemaker\\session.py\u001B\\\u001B[2msession.py\u001B[0m\u001B]8;;\u001B\\\u001B[2m:\u001B[0m\u001B]8;id=295534;file://C:\\Users\\kevin\\anaconda3\\envs\\llm-aws\\Lib\\site-packages\\sagemaker\\session.py#4711\u001B\\\u001B[2m4711\u001B[0m\u001B]8;;\u001B\\\n"
      ],
      "text/html": [
       "<pre style=\"white-space:pre;overflow-x:auto;line-height:normal;font-family:Menlo,'DejaVu Sans Mono',consolas,'Courier New',monospace\"><span style=\"color: #7fbfbf; text-decoration-color: #7fbfbf\">                    </span><span style=\"color: #0069ff; text-decoration-color: #0069ff; font-weight: bold\">INFO    </span> Creating endpoint with name Credit-risk-model-<span style=\"color: #008080; text-decoration-color: #008080; font-weight: bold\">2024</span>-<span style=\"color: #008080; text-decoration-color: #008080; font-weight: bold\">12</span>-<span style=\"color: #008080; text-decoration-color: #008080; font-weight: bold\">09</span>-<span style=\"color: #008080; text-decoration-color: #008080; font-weight: bold\">18</span>-<span style=\"color: #008080; text-decoration-color: #008080; font-weight: bold\">40</span>-<span style=\"color: #008080; text-decoration-color: #008080; font-weight: bold\">56</span>      <a href=\"file://C:\\Users\\kevin\\anaconda3\\envs\\llm-aws\\Lib\\site-packages\\sagemaker\\session.py\" target=\"_blank\"><span style=\"color: #7f7f7f; text-decoration-color: #7f7f7f\">session.py</span></a><span style=\"color: #7f7f7f; text-decoration-color: #7f7f7f\">:</span><a href=\"file://C:\\Users\\kevin\\anaconda3\\envs\\llm-aws\\Lib\\site-packages\\sagemaker\\session.py#4711\" target=\"_blank\"><span style=\"color: #7f7f7f; text-decoration-color: #7f7f7f\">4711</span></a>\n",
       "</pre>\n"
      ]
     },
     "metadata": {},
     "output_type": "display_data"
    },
    {
     "name": "stdout",
     "output_type": "stream",
     "text": [
      "-------!"
     ]
    }
   ],
   "execution_count": 83
  },
  {
   "metadata": {},
   "cell_type": "code",
   "outputs": [],
   "execution_count": null,
   "source": "",
   "id": "fe28011a4eba64c3"
  }
 ],
 "metadata": {
  "kernelspec": {
   "display_name": "Python 3",
   "language": "python",
   "name": "python3"
  },
  "language_info": {
   "codemirror_mode": {
    "name": "ipython",
    "version": 2
   },
   "file_extension": ".py",
   "mimetype": "text/x-python",
   "name": "python",
   "nbconvert_exporter": "python",
   "pygments_lexer": "ipython2",
   "version": "2.7.6"
  }
 },
 "nbformat": 4,
 "nbformat_minor": 5
}
