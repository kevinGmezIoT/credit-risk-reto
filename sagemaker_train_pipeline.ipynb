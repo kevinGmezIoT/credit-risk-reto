{
 "cells": [
  {
   "cell_type": "code",
   "id": "initial_id",
   "metadata": {
    "collapsed": true,
    "ExecuteTime": {
     "end_time": "2024-12-10T19:20:51.753835Z",
     "start_time": "2024-12-10T19:20:51.740837Z"
    }
   },
   "source": [
    "import sagemaker\n",
    "import boto3"
   ],
   "outputs": [],
   "execution_count": 90
  },
  {
   "metadata": {
    "ExecuteTime": {
     "end_time": "2024-12-10T19:20:53.082334Z",
     "start_time": "2024-12-10T19:20:52.951835Z"
    }
   },
   "cell_type": "code",
   "source": [
    "sm_boto3 = boto3.client(\"sagemaker\")\n",
    "sess = sagemaker.Session()\n",
    "region = sess.boto_session.region_name\n",
    "bucket = 'retocreditriskkgv'\n",
    "print(\"Usando bucket:\", bucket)"
   ],
   "id": "2e79bda781d234c0",
   "outputs": [
    {
     "name": "stdout",
     "output_type": "stream",
     "text": [
      "Usando bucket: retocreditriskkgv\n"
     ]
    }
   ],
   "execution_count": 91
  },
  {
   "metadata": {
    "ExecuteTime": {
     "end_time": "2024-12-10T19:20:58.928834Z",
     "start_time": "2024-12-10T19:20:57.337336Z"
    }
   },
   "cell_type": "code",
   "source": [
    "sk_prefix = \"sagemaker/reto_credit_risk/sklearncontainer\"\n",
    "trainpath = sess.upload_data(\n",
    "    path=\"data/toTrain/train-V-1.csv\", bucket=bucket, key_prefix=sk_prefix\n",
    ")\n",
    "testpath = sess.upload_data(\n",
    "    path=\"data/toTrain/test-V-1.csv\", bucket=bucket, key_prefix=sk_prefix\n",
    ")"
   ],
   "id": "72f098811b576e48",
   "outputs": [],
   "execution_count": 92
  },
  {
   "metadata": {
    "ExecuteTime": {
     "end_time": "2024-12-10T19:21:22.149335Z",
     "start_time": "2024-12-10T19:21:22.134338Z"
    }
   },
   "cell_type": "code",
   "source": [
    "%%writefile script.py\n",
    "\n",
    "import argparse\n",
    "\n",
    "from sklearn.svm import SVC\n",
    "from sklearn.metrics import accuracy_score, classification_report, confusion_matrix, precision_score\n",
    "import sklearn\n",
    "import joblib\n",
    "import os\n",
    "import numpy as np\n",
    "import pandas as pd\n",
    "\n",
    "def model_fn(model_dir):\n",
    "    clf = joblib.load(os.path.join(model_dir, \"model.joblib\"))\n",
    "    return clf\n",
    "\n",
    "if __name__== \"__main__\":\n",
    "    print(\"[INFO] Extracting arguments\")\n",
    "    parser = argparse.ArgumentParser()\n",
    "    \n",
    "    parser.add_argument(\"--kernel\", type=str, default=\"rbf\")\n",
    "    parser.add_argument(\"--C\", type=float, default=1.0)\n",
    "    parser.add_argument(\"--gamma\", type=str, default=\"scale\")\n",
    "    \n",
    "    parser.add_argument(\"--model-dir\", type=str, default=os.environ.get(\"SM_MODEL_DIR\"))\n",
    "    parser.add_argument(\"--train\", type=str, default=os.environ.get(\"SM_CHANNEL_TRAIN\"))\n",
    "    parser.add_argument(\"--test\", type=str, default=os.environ.get(\"SM_CHANNEL_TEST\"))\n",
    "    parser.add_argument(\"--train-file\", type=str, default=\"train-V-1.csv\")\n",
    "    parser.add_argument(\"--test-file\", type=str, default=\"test-V-1.csv\")\n",
    "    \n",
    "    args, _ = parser.parse_known_args()\n",
    "    \n",
    "    print(\"SKLearn Version: \", sklearn.__version__)\n",
    "    print(\"Joblib Version: \", joblib.__version__)\n",
    "    \n",
    "    print(\"[INFO] Reading data\")\n",
    "    print()\n",
    "    train_df = pd.read_csv(os.path.join(args.train, args.train_file))\n",
    "    test_df = pd.read_csv(os.path.join(args.test, args.test_file))\n",
    "    \n",
    "    features = list(train_df.columns)\n",
    "    label = features.pop(-1)\n",
    "    \n",
    "    print(\"Building training and testing datasets\")\n",
    "    print()\n",
    "    \n",
    "    X_train = train_df[features]\n",
    "    X_test = test_df[features]\n",
    "    \n",
    "    y_train = train_df[label]\n",
    "    y_test = test_df[label]\n",
    "    \n",
    "    print('Column order: ')\n",
    "    print(features)\n",
    "    print()\n",
    "    \n",
    "    print('Label column is:', label)\n",
    "    print()\n",
    "    \n",
    "    print(\"Data Shape: \")\n",
    "    print()\n",
    "    print(\"----SHAPE OF TRAINING DATA (80%)\")\n",
    "    print(X_train.shape)\n",
    "    print(y_train.shape)\n",
    "    print()\n",
    "    print(\"----SHAPE OF TESTING DATA (20%)\")\n",
    "    print(X_test.shape)\n",
    "    print(y_test.shape)\n",
    "    print()\n",
    "    \n",
    "    print(\"Training SVM Model....\")\n",
    "    print()\n",
    "    model = SVC(kernel=args.kernel, C=args.C, gamma=args.gamma, verbose=True)\n",
    "    model.fit(X_train, y_train)\n",
    "    print()\n",
    "    \n",
    "    model_path = os.path.join(args.model_dir, \"model.joblib\")\n",
    "    joblib.dump(model, model_path)\n",
    "    print(\"Model persisted at \"+ model_path)\n",
    "    print()\n",
    "    \n",
    "    y_pred_test = model.predict(X_test)\n",
    "    test_acc = accuracy_score(y_test, y_pred_test)\n",
    "    test_rep = classification_report(y_test, y_pred_test)\n",
    "    \n",
    "    print()\n",
    "    print(\"--- METRICS RESULTS FOR TESTING DATA ---\")\n",
    "    print()\n",
    "    print(\"Total Rows are:\", X_test.shape[0])\n",
    "    print(\"[TESTING] Model accuracy is: \", test_acc)\n",
    "    print(\"[TESTING] Testing Report: \")\n",
    "    print(test_rep)\n",
    "    "
   ],
   "id": "c836b968aa33a15",
   "outputs": [
    {
     "name": "stdout",
     "output_type": "stream",
     "text": [
      "Writing script.py\n"
     ]
    }
   ],
   "execution_count": 93
  },
  {
   "metadata": {
    "ExecuteTime": {
     "end_time": "2024-12-10T19:42:48.184834Z",
     "start_time": "2024-12-10T19:42:48.121834Z"
    }
   },
   "cell_type": "code",
   "source": [
    "from sagemaker.sklearn.estimator import SKLearn\n",
    "\n",
    "FRAMEWORK_VERSION = \"0.23-1\"\n",
    "\n",
    "sklearn_estimator = SKLearn(\n",
    "    entry_point=\"script.py\",\n",
    "    role=\"arn:aws:iam::940583586544:role/sagemaker_credit_risk\",\n",
    "    instance_count=1,\n",
    "    instance_type=\"ml.m5.large\",\n",
    "    framework_version=FRAMEWORK_VERSION,\n",
    "    base_job_name = \"RF-custom-sklearn\",\n",
    "    hyperparameters={\n",
    "        \"kernel\": \"rbf\",\n",
    "        \"C\": 1.0,\n",
    "        \"gamma\": \"scale\"\n",
    "    },\n",
    "    use_spot_instances= True,\n",
    "    max_wait = 7200,\n",
    "    max_run = 3600\n",
    ")"
   ],
   "id": "b44aa2ae343773ad",
   "outputs": [],
   "execution_count": 101
  },
  {
   "metadata": {
    "ExecuteTime": {
     "end_time": "2024-12-10T19:45:58.603334Z",
     "start_time": "2024-12-10T19:42:49.811334Z"
    }
   },
   "cell_type": "code",
   "source": "sklearn_estimator.fit({\"train\":trainpath, \"test\": testpath}, wait=True, logs=True)",
   "id": "fb2e83066b168717",
   "outputs": [
    {
     "data": {
      "text/plain": [
       "\u001B[2;36m[12/10/24 14:42:49]\u001B[0m\u001B[2;36m \u001B[0m\u001B[1;38;2;0;105;255mINFO    \u001B[0m SageMaker Python SDK will collect telemetry to help us better  \u001B]8;id=963838;file://C:\\Users\\kevin\\anaconda3\\envs\\llm-aws\\Lib\\site-packages\\sagemaker\\telemetry\\telemetry_logging.py\u001B\\\u001B[2mtelemetry_logging.py\u001B[0m\u001B]8;;\u001B\\\u001B[2m:\u001B[0m\u001B]8;id=648938;file://C:\\Users\\kevin\\anaconda3\\envs\\llm-aws\\Lib\\site-packages\\sagemaker\\telemetry\\telemetry_logging.py#90\u001B\\\u001B[2m90\u001B[0m\u001B]8;;\u001B\\\n",
       "\u001B[2;36m                    \u001B[0m         understand our user's needs, diagnose issues, and deliver      \u001B[2m                       \u001B[0m\n",
       "\u001B[2;36m                    \u001B[0m         additional features.                                           \u001B[2m                       \u001B[0m\n",
       "\u001B[2;36m                    \u001B[0m         To opt out of telemetry, please disable via TelemetryOptOut    \u001B[2m                       \u001B[0m\n",
       "\u001B[2;36m                    \u001B[0m         parameter in SDK defaults config. For more information, refer  \u001B[2m                       \u001B[0m\n",
       "\u001B[2;36m                    \u001B[0m         to                                                             \u001B[2m                       \u001B[0m\n",
       "\u001B[2;36m                    \u001B[0m         \u001B[4;38;2;0;105;255mhttps://sagemaker.readthedocs.io/en/stable/overview.html#confi\u001B[0m \u001B[2m                       \u001B[0m\n",
       "\u001B[2;36m                    \u001B[0m         \u001B[4;38;2;0;105;255mguring-and-using-defaults-with-the-sagemaker-python-sdk.\u001B[0m       \u001B[2m                       \u001B[0m\n"
      ],
      "text/html": [
       "<pre style=\"white-space:pre;overflow-x:auto;line-height:normal;font-family:Menlo,'DejaVu Sans Mono',consolas,'Courier New',monospace\"><span style=\"color: #7fbfbf; text-decoration-color: #7fbfbf\">[12/10/24 14:42:49] </span><span style=\"color: #0069ff; text-decoration-color: #0069ff; font-weight: bold\">INFO    </span> SageMaker Python SDK will collect telemetry to help us better  <a href=\"file://C:\\Users\\kevin\\anaconda3\\envs\\llm-aws\\Lib\\site-packages\\sagemaker\\telemetry\\telemetry_logging.py\" target=\"_blank\"><span style=\"color: #7f7f7f; text-decoration-color: #7f7f7f\">telemetry_logging.py</span></a><span style=\"color: #7f7f7f; text-decoration-color: #7f7f7f\">:</span><a href=\"file://C:\\Users\\kevin\\anaconda3\\envs\\llm-aws\\Lib\\site-packages\\sagemaker\\telemetry\\telemetry_logging.py#90\" target=\"_blank\"><span style=\"color: #7f7f7f; text-decoration-color: #7f7f7f\">90</span></a>\n",
       "<span style=\"color: #7fbfbf; text-decoration-color: #7fbfbf\">                    </span>         understand our user's needs, diagnose issues, and deliver      <span style=\"color: #7f7f7f; text-decoration-color: #7f7f7f\">                       </span>\n",
       "<span style=\"color: #7fbfbf; text-decoration-color: #7fbfbf\">                    </span>         additional features.                                           <span style=\"color: #7f7f7f; text-decoration-color: #7f7f7f\">                       </span>\n",
       "<span style=\"color: #7fbfbf; text-decoration-color: #7fbfbf\">                    </span>         To opt out of telemetry, please disable via TelemetryOptOut    <span style=\"color: #7f7f7f; text-decoration-color: #7f7f7f\">                       </span>\n",
       "<span style=\"color: #7fbfbf; text-decoration-color: #7fbfbf\">                    </span>         parameter in SDK defaults config. For more information, refer  <span style=\"color: #7f7f7f; text-decoration-color: #7f7f7f\">                       </span>\n",
       "<span style=\"color: #7fbfbf; text-decoration-color: #7fbfbf\">                    </span>         to                                                             <span style=\"color: #7f7f7f; text-decoration-color: #7f7f7f\">                       </span>\n",
       "<span style=\"color: #7fbfbf; text-decoration-color: #7fbfbf\">                    </span>         <span style=\"color: #0069ff; text-decoration-color: #0069ff; text-decoration: underline\">https://sagemaker.readthedocs.io/en/stable/overview.html#confi</span> <span style=\"color: #7f7f7f; text-decoration-color: #7f7f7f\">                       </span>\n",
       "<span style=\"color: #7fbfbf; text-decoration-color: #7fbfbf\">                    </span>         <span style=\"color: #0069ff; text-decoration-color: #0069ff; text-decoration: underline\">guring-and-using-defaults-with-the-sagemaker-python-sdk.</span>       <span style=\"color: #7f7f7f; text-decoration-color: #7f7f7f\">                       </span>\n",
       "</pre>\n"
      ]
     },
     "metadata": {},
     "output_type": "display_data"
    },
    {
     "data": {
      "text/plain": [
       "\u001B[2;36m[12/10/24 14:42:53]\u001B[0m\u001B[2;36m \u001B[0m\u001B[1;38;2;0;105;255mINFO    \u001B[0m Creating training-job with name:                                       \u001B]8;id=797726;file://C:\\Users\\kevin\\anaconda3\\envs\\llm-aws\\Lib\\site-packages\\sagemaker\\session.py\u001B\\\u001B[2msession.py\u001B[0m\u001B]8;;\u001B\\\u001B[2m:\u001B[0m\u001B]8;id=334745;file://C:\\Users\\kevin\\anaconda3\\envs\\llm-aws\\Lib\\site-packages\\sagemaker\\session.py#1042\u001B\\\u001B[2m1042\u001B[0m\u001B]8;;\u001B\\\n",
       "\u001B[2;36m                    \u001B[0m         RF-custom-sklearn-\u001B[1;36m2024\u001B[0m-12-10-19-42-49-819                              \u001B[2m               \u001B[0m\n"
      ],
      "text/html": [
       "<pre style=\"white-space:pre;overflow-x:auto;line-height:normal;font-family:Menlo,'DejaVu Sans Mono',consolas,'Courier New',monospace\"><span style=\"color: #7fbfbf; text-decoration-color: #7fbfbf\">[12/10/24 14:42:53] </span><span style=\"color: #0069ff; text-decoration-color: #0069ff; font-weight: bold\">INFO    </span> Creating training-job with name:                                       <a href=\"file://C:\\Users\\kevin\\anaconda3\\envs\\llm-aws\\Lib\\site-packages\\sagemaker\\session.py\" target=\"_blank\"><span style=\"color: #7f7f7f; text-decoration-color: #7f7f7f\">session.py</span></a><span style=\"color: #7f7f7f; text-decoration-color: #7f7f7f\">:</span><a href=\"file://C:\\Users\\kevin\\anaconda3\\envs\\llm-aws\\Lib\\site-packages\\sagemaker\\session.py#1042\" target=\"_blank\"><span style=\"color: #7f7f7f; text-decoration-color: #7f7f7f\">1042</span></a>\n",
       "<span style=\"color: #7fbfbf; text-decoration-color: #7fbfbf\">                    </span>         RF-custom-sklearn-<span style=\"color: #008080; text-decoration-color: #008080; font-weight: bold\">2024</span>-12-10-19-42-49-819                              <span style=\"color: #7f7f7f; text-decoration-color: #7f7f7f\">               </span>\n",
       "</pre>\n"
      ]
     },
     "metadata": {},
     "output_type": "display_data"
    },
    {
     "name": "stdout",
     "output_type": "stream",
     "text": [
      "2024-12-10 19:42:59 Starting - Starting the training job...\n",
      "2024-12-10 19:43:14 Starting - Preparing the instances for training...\n",
      "2024-12-10 19:43:48 Downloading - Downloading input data...\n",
      "2024-12-10 19:44:14 Downloading - Downloading the training image...\n",
      "2024-12-10 19:45:05 Training - Training image download completed. Training in progress.\n",
      "2024-12-10 19:45:05 Uploading - Uploading generated training model\u001B[34m2024-12-10 19:44:58,893 sagemaker-containers INFO     Imported framework sagemaker_sklearn_container.training\u001B[0m\n",
      "\u001B[34m2024-12-10 19:44:58,896 sagemaker-training-toolkit INFO     No GPUs detected (normal if no gpus installed)\u001B[0m\n",
      "\u001B[34m2024-12-10 19:44:58,934 sagemaker_sklearn_container.training INFO     Invoking user training script.\u001B[0m\n",
      "\u001B[34m2024-12-10 19:44:59,078 sagemaker-training-toolkit INFO     No GPUs detected (normal if no gpus installed)\u001B[0m\n",
      "\u001B[34m2024-12-10 19:44:59,089 sagemaker-training-toolkit INFO     No GPUs detected (normal if no gpus installed)\u001B[0m\n",
      "\u001B[34m2024-12-10 19:44:59,101 sagemaker-training-toolkit INFO     No GPUs detected (normal if no gpus installed)\u001B[0m\n",
      "\u001B[34m2024-12-10 19:44:59,109 sagemaker-training-toolkit INFO     Invoking user script\u001B[0m\n",
      "\u001B[34mTraining Env:\u001B[0m\n",
      "\u001B[34m{\n",
      "    \"additional_framework_parameters\": {},\n",
      "    \"channel_input_dirs\": {\n",
      "        \"test\": \"/opt/ml/input/data/test\",\n",
      "        \"train\": \"/opt/ml/input/data/train\"\n",
      "    },\n",
      "    \"current_host\": \"algo-1\",\n",
      "    \"framework_module\": \"sagemaker_sklearn_container.training:main\",\n",
      "    \"hosts\": [\n",
      "        \"algo-1\"\n",
      "    ],\n",
      "    \"hyperparameters\": {\n",
      "        \"C\": 1.0,\n",
      "        \"gamma\": \"scale\",\n",
      "        \"kernel\": \"rbf\"\n",
      "    },\n",
      "    \"input_config_dir\": \"/opt/ml/input/config\",\n",
      "    \"input_data_config\": {\n",
      "        \"test\": {\n",
      "            \"TrainingInputMode\": \"File\",\n",
      "            \"S3DistributionType\": \"FullyReplicated\",\n",
      "            \"RecordWrapperType\": \"None\"\n",
      "        },\n",
      "        \"train\": {\n",
      "            \"TrainingInputMode\": \"File\",\n",
      "            \"S3DistributionType\": \"FullyReplicated\",\n",
      "            \"RecordWrapperType\": \"None\"\n",
      "        }\n",
      "    },\n",
      "    \"input_dir\": \"/opt/ml/input\",\n",
      "    \"is_master\": true,\n",
      "    \"job_name\": \"RF-custom-sklearn-2024-12-10-19-42-49-819\",\n",
      "    \"log_level\": 20,\n",
      "    \"master_hostname\": \"algo-1\",\n",
      "    \"model_dir\": \"/opt/ml/model\",\n",
      "    \"module_dir\": \"s3://sagemaker-us-east-1-940583586544/RF-custom-sklearn-2024-12-10-19-42-49-819/source/sourcedir.tar.gz\",\n",
      "    \"module_name\": \"script\",\n",
      "    \"network_interface_name\": \"eth0\",\n",
      "    \"num_cpus\": 2,\n",
      "    \"num_gpus\": 0,\n",
      "    \"output_data_dir\": \"/opt/ml/output/data\",\n",
      "    \"output_dir\": \"/opt/ml/output\",\n",
      "    \"output_intermediate_dir\": \"/opt/ml/output/intermediate\",\n",
      "    \"resource_config\": {\n",
      "        \"current_host\": \"algo-1\",\n",
      "        \"current_instance_type\": \"ml.m5.large\",\n",
      "        \"current_group_name\": \"homogeneousCluster\",\n",
      "        \"hosts\": [\n",
      "            \"algo-1\"\n",
      "        ],\n",
      "        \"instance_groups\": [\n",
      "            {\n",
      "                \"instance_group_name\": \"homogeneousCluster\",\n",
      "                \"instance_type\": \"ml.m5.large\",\n",
      "                \"hosts\": [\n",
      "                    \"algo-1\"\n",
      "                ]\n",
      "            }\n",
      "        ],\n",
      "        \"network_interface_name\": \"eth0\"\n",
      "    },\n",
      "    \"user_entry_point\": \"script.py\"\u001B[0m\n",
      "\u001B[34m}\u001B[0m\n",
      "\u001B[34mEnvironment variables:\u001B[0m\n",
      "\u001B[34mSM_HOSTS=[\"algo-1\"]\u001B[0m\n",
      "\u001B[34mSM_NETWORK_INTERFACE_NAME=eth0\u001B[0m\n",
      "\u001B[34mSM_HPS={\"C\":1.0,\"gamma\":\"scale\",\"kernel\":\"rbf\"}\u001B[0m\n",
      "\u001B[34mSM_USER_ENTRY_POINT=script.py\u001B[0m\n",
      "\u001B[34mSM_FRAMEWORK_PARAMS={}\u001B[0m\n",
      "\u001B[34mSM_RESOURCE_CONFIG={\"current_group_name\":\"homogeneousCluster\",\"current_host\":\"algo-1\",\"current_instance_type\":\"ml.m5.large\",\"hosts\":[\"algo-1\"],\"instance_groups\":[{\"hosts\":[\"algo-1\"],\"instance_group_name\":\"homogeneousCluster\",\"instance_type\":\"ml.m5.large\"}],\"network_interface_name\":\"eth0\"}\u001B[0m\n",
      "\u001B[34mSM_INPUT_DATA_CONFIG={\"test\":{\"RecordWrapperType\":\"None\",\"S3DistributionType\":\"FullyReplicated\",\"TrainingInputMode\":\"File\"},\"train\":{\"RecordWrapperType\":\"None\",\"S3DistributionType\":\"FullyReplicated\",\"TrainingInputMode\":\"File\"}}\u001B[0m\n",
      "\u001B[34mSM_OUTPUT_DATA_DIR=/opt/ml/output/data\u001B[0m\n",
      "\u001B[34mSM_CHANNELS=[\"test\",\"train\"]\u001B[0m\n",
      "\u001B[34mSM_CURRENT_HOST=algo-1\u001B[0m\n",
      "\u001B[34mSM_MODULE_NAME=script\u001B[0m\n",
      "\u001B[34mSM_LOG_LEVEL=20\u001B[0m\n",
      "\u001B[34mSM_FRAMEWORK_MODULE=sagemaker_sklearn_container.training:main\u001B[0m\n",
      "\u001B[34mSM_INPUT_DIR=/opt/ml/input\u001B[0m\n",
      "\u001B[34mSM_INPUT_CONFIG_DIR=/opt/ml/input/config\u001B[0m\n",
      "\u001B[34mSM_OUTPUT_DIR=/opt/ml/output\u001B[0m\n",
      "\u001B[34mSM_NUM_CPUS=2\u001B[0m\n",
      "\u001B[34mSM_NUM_GPUS=0\u001B[0m\n",
      "\u001B[34mSM_MODEL_DIR=/opt/ml/model\u001B[0m\n",
      "\u001B[34mSM_MODULE_DIR=s3://sagemaker-us-east-1-940583586544/RF-custom-sklearn-2024-12-10-19-42-49-819/source/sourcedir.tar.gz\u001B[0m\n",
      "\u001B[34mSM_TRAINING_ENV={\"additional_framework_parameters\":{},\"channel_input_dirs\":{\"test\":\"/opt/ml/input/data/test\",\"train\":\"/opt/ml/input/data/train\"},\"current_host\":\"algo-1\",\"framework_module\":\"sagemaker_sklearn_container.training:main\",\"hosts\":[\"algo-1\"],\"hyperparameters\":{\"C\":1.0,\"gamma\":\"scale\",\"kernel\":\"rbf\"},\"input_config_dir\":\"/opt/ml/input/config\",\"input_data_config\":{\"test\":{\"RecordWrapperType\":\"None\",\"S3DistributionType\":\"FullyReplicated\",\"TrainingInputMode\":\"File\"},\"train\":{\"RecordWrapperType\":\"None\",\"S3DistributionType\":\"FullyReplicated\",\"TrainingInputMode\":\"File\"}},\"input_dir\":\"/opt/ml/input\",\"is_master\":true,\"job_name\":\"RF-custom-sklearn-2024-12-10-19-42-49-819\",\"log_level\":20,\"master_hostname\":\"algo-1\",\"model_dir\":\"/opt/ml/model\",\"module_dir\":\"s3://sagemaker-us-east-1-940583586544/RF-custom-sklearn-2024-12-10-19-42-49-819/source/sourcedir.tar.gz\",\"module_name\":\"script\",\"network_interface_name\":\"eth0\",\"num_cpus\":2,\"num_gpus\":0,\"output_data_dir\":\"/opt/ml/output/data\",\"output_dir\":\"/opt/ml/output\",\"output_intermediate_dir\":\"/opt/ml/output/intermediate\",\"resource_config\":{\"current_group_name\":\"homogeneousCluster\",\"current_host\":\"algo-1\",\"current_instance_type\":\"ml.m5.large\",\"hosts\":[\"algo-1\"],\"instance_groups\":[{\"hosts\":[\"algo-1\"],\"instance_group_name\":\"homogeneousCluster\",\"instance_type\":\"ml.m5.large\"}],\"network_interface_name\":\"eth0\"},\"user_entry_point\":\"script.py\"}\u001B[0m\n",
      "\u001B[34mSM_USER_ARGS=[\"-C\",\"1.0\",\"--gamma\",\"scale\",\"--kernel\",\"rbf\"]\u001B[0m\n",
      "\u001B[34mSM_OUTPUT_INTERMEDIATE_DIR=/opt/ml/output/intermediate\u001B[0m\n",
      "\u001B[34mSM_CHANNEL_TEST=/opt/ml/input/data/test\u001B[0m\n",
      "\u001B[34mSM_CHANNEL_TRAIN=/opt/ml/input/data/train\u001B[0m\n",
      "\u001B[34mSM_HP_C=1.0\u001B[0m\n",
      "\u001B[34mSM_HP_GAMMA=scale\u001B[0m\n",
      "\u001B[34mSM_HP_KERNEL=rbf\u001B[0m\n",
      "\u001B[34mPYTHONPATH=/opt/ml/code:/miniconda3/bin:/miniconda3/lib/python37.zip:/miniconda3/lib/python3.7:/miniconda3/lib/python3.7/lib-dynload:/miniconda3/lib/python3.7/site-packages\u001B[0m\n",
      "\u001B[34mInvoking script with the following command:\u001B[0m\n",
      "\u001B[34m/miniconda3/bin/python script.py -C 1.0 --gamma scale --kernel rbf\u001B[0m\n",
      "\u001B[34m[INFO] Extracting arguments\u001B[0m\n",
      "\u001B[34mSKLearn Version:  0.23.2\u001B[0m\n",
      "\u001B[34mJoblib Version:  1.2.0\u001B[0m\n",
      "\u001B[34m[INFO] Reading data\u001B[0m\n",
      "\u001B[34mBuilding training and testing datasets\u001B[0m\n",
      "\u001B[34mColumn order: \u001B[0m\n",
      "\u001B[34m['Age', 'Job', 'Credit amount', 'Duration', 'Sex_male', 'Housing_own', 'Housing_rent', 'Saving accounts_moderate', 'Saving accounts_quite rich', 'Saving accounts_rich', 'Checking account_moderate', 'Checking account_rich', 'Purpose_car', 'Purpose_domestic appliances', 'Purpose_education', 'Purpose_furniture/equipment', 'Purpose_radio/TV', 'Purpose_repairs', 'Purpose_vacation/others']\u001B[0m\n",
      "\u001B[34mLabel column is: target\u001B[0m\n",
      "\u001B[34mData Shape: \u001B[0m\n",
      "\u001B[34m----SHAPE OF TRAINING DATA (80%)\u001B[0m\n",
      "\u001B[34m(800, 19)\u001B[0m\n",
      "\u001B[34m(800,)\u001B[0m\n",
      "\u001B[34m----SHAPE OF TESTING DATA (20%)\u001B[0m\n",
      "\u001B[34m(200, 19)\u001B[0m\n",
      "\u001B[34m(200,)\u001B[0m\n",
      "\u001B[34mTraining SVM Model....\u001B[0m\n",
      "\u001B[34m[LibSVM]*\u001B[0m\n",
      "\u001B[34moptimization finished, #iter = 484\u001B[0m\n",
      "\u001B[34mobj = -275.327543, rho = -0.729194\u001B[0m\n",
      "\u001B[34mnSV = 360, nBSV = 301\u001B[0m\n",
      "\u001B[34mTotal nSV = 360\u001B[0m\n",
      "\u001B[34mModel persisted at /opt/ml/model/model.joblib\u001B[0m\n",
      "\u001B[34m--- METRICS RESULTS FOR TESTING DATA ---\u001B[0m\n",
      "\u001B[34mTotal Rows are: 200\u001B[0m\n",
      "\u001B[34m[TESTING] Model accuracy is:  0.9\u001B[0m\n",
      "\u001B[34m[TESTING] Testing Report: \n",
      "              precision    recall  f1-score   support\n",
      "           0       0.90      0.98      0.94       156\n",
      "           1       0.90      0.61      0.73        44\n",
      "    accuracy                           0.90       200\n",
      "   macro avg       0.90      0.80      0.83       200\u001B[0m\n",
      "\u001B[34mweighted avg       0.90      0.90      0.89       200\u001B[0m\n",
      "\u001B[34m2024-12-10 19:45:00,089 sagemaker-containers INFO     Reporting training SUCCESS\u001B[0m\n",
      "\n",
      "2024-12-10 19:45:18 Completed - Training job completed\n",
      "Training seconds: 90\n",
      "Billable seconds: 33\n",
      "Managed Spot Training savings: 63.3%\n"
     ]
    }
   ],
   "execution_count": 102
  },
  {
   "metadata": {
    "ExecuteTime": {
     "end_time": "2024-12-10T19:46:04.736835Z",
     "start_time": "2024-12-10T19:45:58.605336Z"
    }
   },
   "cell_type": "code",
   "source": [
    "sklearn_estimator.latest_training_job.wait(logs=\"None\")\n",
    "artifact = sm_boto3.describe_training_job(\n",
    "    TrainingJobName=sklearn_estimator.latest_training_job.name\n",
    ")[\"ModelArtifacts\"][\"S3ModelArtifacts\"]\n",
    "\n",
    "print(\"Model Artifact persisted at \", artifact)"
   ],
   "id": "d028ca16b0c52329",
   "outputs": [
    {
     "name": "stdout",
     "output_type": "stream",
     "text": [
      "\n",
      "2024-12-10 19:45:18 Starting - Preparing the instances for training\n",
      "2024-12-10 19:45:18 Downloading - Downloading the training image\n",
      "2024-12-10 19:45:18 Training - Training image download completed. Training in progress.\n",
      "2024-12-10 19:45:18 Uploading - Uploading generated training model\n",
      "2024-12-10 19:45:18 Completed - Training job completed\n",
      "Model Artifact persisted at  s3://sagemaker-us-east-1-940583586544/RF-custom-sklearn-2024-12-10-19-42-49-819/output/model.tar.gz\n"
     ]
    }
   ],
   "execution_count": 103
  },
  {
   "metadata": {
    "ExecuteTime": {
     "end_time": "2024-12-10T19:46:04.743336Z",
     "start_time": "2024-12-10T19:46:04.738334Z"
    }
   },
   "cell_type": "code",
   "source": "artifact",
   "id": "773897f54f8b866d",
   "outputs": [
    {
     "data": {
      "text/plain": [
       "'s3://sagemaker-us-east-1-940583586544/RF-custom-sklearn-2024-12-10-19-42-49-819/output/model.tar.gz'"
      ]
     },
     "execution_count": 104,
     "metadata": {},
     "output_type": "execute_result"
    }
   ],
   "execution_count": 104
  },
  {
   "metadata": {
    "ExecuteTime": {
     "end_time": "2024-12-10T19:46:04.751834Z",
     "start_time": "2024-12-10T19:46:04.745335Z"
    }
   },
   "cell_type": "code",
   "source": [
    "from sagemaker.sklearn.model import SKLearnModel\n",
    "from time import gmtime, strftime\n",
    "\n",
    "model_name = \"Credit-risk-model-\" + strftime(\"%Y-%m-%d-%H-%M-%S\", gmtime())\n",
    "model = SKLearnModel(\n",
    "    name = model_name,\n",
    "    model_data = artifact,\n",
    "    role=\"arn:aws:iam::940583586544:role/sagemaker_credit_risk\",\n",
    "    entry_point=\"script.py\",\n",
    "    framework_version=FRAMEWORK_VERSION\n",
    ")"
   ],
   "id": "e5275582771fa16f",
   "outputs": [],
   "execution_count": 105
  },
  {
   "metadata": {
    "ExecuteTime": {
     "end_time": "2024-12-10T19:46:04.761835Z",
     "start_time": "2024-12-10T19:46:04.753334Z"
    }
   },
   "cell_type": "code",
   "source": "model",
   "id": "ce084b89106124fd",
   "outputs": [
    {
     "data": {
      "text/plain": [
       "<sagemaker.sklearn.model.SKLearnModel at 0x2529c65ce10>"
      ]
     },
     "execution_count": 106,
     "metadata": {},
     "output_type": "execute_result"
    }
   ],
   "execution_count": 106
  },
  {
   "metadata": {
    "ExecuteTime": {
     "end_time": "2024-12-10T19:49:42.389833Z",
     "start_time": "2024-12-10T19:46:04.763836Z"
    }
   },
   "cell_type": "code",
   "source": [
    "endpoint_name = \"Credit-risk-model-\" + strftime(\"%Y-%m-%d-%H-%M-%S\", gmtime())\n",
    "print(\"EndpointName={}\".format(endpoint_name))\n",
    "\n",
    "predictor = model.deploy(\n",
    "    initial_instance_count=1,\n",
    "    instance_type=\"ml.m5.large\",\n",
    "    endpoint_name=endpoint_name\n",
    ")"
   ],
   "id": "8e664f3bfdc3422",
   "outputs": [
    {
     "name": "stdout",
     "output_type": "stream",
     "text": [
      "EndpointName=Credit-risk-model-2024-12-10-19-46-04\n"
     ]
    },
    {
     "data": {
      "text/plain": [
       "\u001B[2;36m[12/10/24 14:46:09]\u001B[0m\u001B[2;36m \u001B[0m\u001B[1;38;2;0;105;255mINFO    \u001B[0m Creating model with name: Credit-risk-model-\u001B[1;36m2024\u001B[0m-\u001B[1;36m12\u001B[0m-\u001B[1;36m10\u001B[0m-\u001B[1;36m19\u001B[0m-\u001B[1;36m46\u001B[0m-\u001B[1;36m04\u001B[0m        \u001B]8;id=435221;file://C:\\Users\\kevin\\anaconda3\\envs\\llm-aws\\Lib\\site-packages\\sagemaker\\session.py\u001B\\\u001B[2msession.py\u001B[0m\u001B]8;;\u001B\\\u001B[2m:\u001B[0m\u001B]8;id=74547;file://C:\\Users\\kevin\\anaconda3\\envs\\llm-aws\\Lib\\site-packages\\sagemaker\\session.py#4094\u001B\\\u001B[2m4094\u001B[0m\u001B]8;;\u001B\\\n"
      ],
      "text/html": [
       "<pre style=\"white-space:pre;overflow-x:auto;line-height:normal;font-family:Menlo,'DejaVu Sans Mono',consolas,'Courier New',monospace\"><span style=\"color: #7fbfbf; text-decoration-color: #7fbfbf\">[12/10/24 14:46:09] </span><span style=\"color: #0069ff; text-decoration-color: #0069ff; font-weight: bold\">INFO    </span> Creating model with name: Credit-risk-model-<span style=\"color: #008080; text-decoration-color: #008080; font-weight: bold\">2024</span>-<span style=\"color: #008080; text-decoration-color: #008080; font-weight: bold\">12</span>-<span style=\"color: #008080; text-decoration-color: #008080; font-weight: bold\">10</span>-<span style=\"color: #008080; text-decoration-color: #008080; font-weight: bold\">19</span>-<span style=\"color: #008080; text-decoration-color: #008080; font-weight: bold\">46</span>-<span style=\"color: #008080; text-decoration-color: #008080; font-weight: bold\">04</span>        <a href=\"file://C:\\Users\\kevin\\anaconda3\\envs\\llm-aws\\Lib\\site-packages\\sagemaker\\session.py\" target=\"_blank\"><span style=\"color: #7f7f7f; text-decoration-color: #7f7f7f\">session.py</span></a><span style=\"color: #7f7f7f; text-decoration-color: #7f7f7f\">:</span><a href=\"file://C:\\Users\\kevin\\anaconda3\\envs\\llm-aws\\Lib\\site-packages\\sagemaker\\session.py#4094\" target=\"_blank\"><span style=\"color: #7f7f7f; text-decoration-color: #7f7f7f\">4094</span></a>\n",
       "</pre>\n"
      ]
     },
     "metadata": {},
     "output_type": "display_data"
    },
    {
     "data": {
      "text/plain": [
       "\u001B[2;36m[12/10/24 14:46:10]\u001B[0m\u001B[2;36m \u001B[0m\u001B[1;38;2;0;105;255mINFO    \u001B[0m Creating endpoint-config with name                                     \u001B]8;id=846894;file://C:\\Users\\kevin\\anaconda3\\envs\\llm-aws\\Lib\\site-packages\\sagemaker\\session.py\u001B\\\u001B[2msession.py\u001B[0m\u001B]8;;\u001B\\\u001B[2m:\u001B[0m\u001B]8;id=238602;file://C:\\Users\\kevin\\anaconda3\\envs\\llm-aws\\Lib\\site-packages\\sagemaker\\session.py#5889\u001B\\\u001B[2m5889\u001B[0m\u001B]8;;\u001B\\\n",
       "\u001B[2;36m                    \u001B[0m         Credit-risk-model-\u001B[1;36m2024\u001B[0m-\u001B[1;36m12\u001B[0m-\u001B[1;36m10\u001B[0m-\u001B[1;36m19\u001B[0m-\u001B[1;36m46\u001B[0m-\u001B[1;36m04\u001B[0m                                  \u001B[2m               \u001B[0m\n"
      ],
      "text/html": [
       "<pre style=\"white-space:pre;overflow-x:auto;line-height:normal;font-family:Menlo,'DejaVu Sans Mono',consolas,'Courier New',monospace\"><span style=\"color: #7fbfbf; text-decoration-color: #7fbfbf\">[12/10/24 14:46:10] </span><span style=\"color: #0069ff; text-decoration-color: #0069ff; font-weight: bold\">INFO    </span> Creating endpoint-config with name                                     <a href=\"file://C:\\Users\\kevin\\anaconda3\\envs\\llm-aws\\Lib\\site-packages\\sagemaker\\session.py\" target=\"_blank\"><span style=\"color: #7f7f7f; text-decoration-color: #7f7f7f\">session.py</span></a><span style=\"color: #7f7f7f; text-decoration-color: #7f7f7f\">:</span><a href=\"file://C:\\Users\\kevin\\anaconda3\\envs\\llm-aws\\Lib\\site-packages\\sagemaker\\session.py#5889\" target=\"_blank\"><span style=\"color: #7f7f7f; text-decoration-color: #7f7f7f\">5889</span></a>\n",
       "<span style=\"color: #7fbfbf; text-decoration-color: #7fbfbf\">                    </span>         Credit-risk-model-<span style=\"color: #008080; text-decoration-color: #008080; font-weight: bold\">2024</span>-<span style=\"color: #008080; text-decoration-color: #008080; font-weight: bold\">12</span>-<span style=\"color: #008080; text-decoration-color: #008080; font-weight: bold\">10</span>-<span style=\"color: #008080; text-decoration-color: #008080; font-weight: bold\">19</span>-<span style=\"color: #008080; text-decoration-color: #008080; font-weight: bold\">46</span>-<span style=\"color: #008080; text-decoration-color: #008080; font-weight: bold\">04</span>                                  <span style=\"color: #7f7f7f; text-decoration-color: #7f7f7f\">               </span>\n",
       "</pre>\n"
      ]
     },
     "metadata": {},
     "output_type": "display_data"
    },
    {
     "data": {
      "text/plain": [
       "\u001B[2;36m                   \u001B[0m\u001B[2;36m \u001B[0m\u001B[1;38;2;0;105;255mINFO    \u001B[0m Creating endpoint with name Credit-risk-model-\u001B[1;36m2024\u001B[0m-\u001B[1;36m12\u001B[0m-\u001B[1;36m10\u001B[0m-\u001B[1;36m19\u001B[0m-\u001B[1;36m46\u001B[0m-\u001B[1;36m04\u001B[0m      \u001B]8;id=644094;file://C:\\Users\\kevin\\anaconda3\\envs\\llm-aws\\Lib\\site-packages\\sagemaker\\session.py\u001B\\\u001B[2msession.py\u001B[0m\u001B]8;;\u001B\\\u001B[2m:\u001B[0m\u001B]8;id=900403;file://C:\\Users\\kevin\\anaconda3\\envs\\llm-aws\\Lib\\site-packages\\sagemaker\\session.py#4711\u001B\\\u001B[2m4711\u001B[0m\u001B]8;;\u001B\\\n"
      ],
      "text/html": [
       "<pre style=\"white-space:pre;overflow-x:auto;line-height:normal;font-family:Menlo,'DejaVu Sans Mono',consolas,'Courier New',monospace\"><span style=\"color: #7fbfbf; text-decoration-color: #7fbfbf\">                    </span><span style=\"color: #0069ff; text-decoration-color: #0069ff; font-weight: bold\">INFO    </span> Creating endpoint with name Credit-risk-model-<span style=\"color: #008080; text-decoration-color: #008080; font-weight: bold\">2024</span>-<span style=\"color: #008080; text-decoration-color: #008080; font-weight: bold\">12</span>-<span style=\"color: #008080; text-decoration-color: #008080; font-weight: bold\">10</span>-<span style=\"color: #008080; text-decoration-color: #008080; font-weight: bold\">19</span>-<span style=\"color: #008080; text-decoration-color: #008080; font-weight: bold\">46</span>-<span style=\"color: #008080; text-decoration-color: #008080; font-weight: bold\">04</span>      <a href=\"file://C:\\Users\\kevin\\anaconda3\\envs\\llm-aws\\Lib\\site-packages\\sagemaker\\session.py\" target=\"_blank\"><span style=\"color: #7f7f7f; text-decoration-color: #7f7f7f\">session.py</span></a><span style=\"color: #7f7f7f; text-decoration-color: #7f7f7f\">:</span><a href=\"file://C:\\Users\\kevin\\anaconda3\\envs\\llm-aws\\Lib\\site-packages\\sagemaker\\session.py#4711\" target=\"_blank\"><span style=\"color: #7f7f7f; text-decoration-color: #7f7f7f\">4711</span></a>\n",
       "</pre>\n"
      ]
     },
     "metadata": {},
     "output_type": "display_data"
    },
    {
     "name": "stdout",
     "output_type": "stream",
     "text": [
      "------!"
     ]
    }
   ],
   "execution_count": 107
  },
  {
   "metadata": {},
   "cell_type": "code",
   "outputs": [],
   "execution_count": null,
   "source": "",
   "id": "fe28011a4eba64c3"
  }
 ],
 "metadata": {
  "kernelspec": {
   "display_name": "Python 3",
   "language": "python",
   "name": "python3"
  },
  "language_info": {
   "codemirror_mode": {
    "name": "ipython",
    "version": 2
   },
   "file_extension": ".py",
   "mimetype": "text/x-python",
   "name": "python",
   "nbconvert_exporter": "python",
   "pygments_lexer": "ipython2",
   "version": "2.7.6"
  }
 },
 "nbformat": 4,
 "nbformat_minor": 5
}
