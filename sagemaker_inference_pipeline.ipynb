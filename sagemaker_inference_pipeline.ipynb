{
 "cells": [
  {
   "cell_type": "code",
   "id": "initial_id",
   "metadata": {
    "collapsed": true,
    "ExecuteTime": {
     "end_time": "2024-12-10T19:38:06.474335Z",
     "start_time": "2024-12-10T19:38:06.451833Z"
    }
   },
   "source": [
    "from sagemaker.predictor import Predictor\n",
    "import sagemaker\n",
    "from sklearn.pipeline import Pipeline\n",
    "from sklearn.preprocessing import OneHotEncoder, MinMaxScaler\n",
    "from sklearn.preprocessing import FunctionTransformer\n",
    "from sklearn.impute import SimpleImputer\n",
    "import pandas as pd"
   ],
   "outputs": [],
   "execution_count": 31
  },
  {
   "metadata": {
    "ExecuteTime": {
     "end_time": "2024-12-10T19:38:07.559336Z",
     "start_time": "2024-12-10T19:38:07.543337Z"
    }
   },
   "cell_type": "code",
   "source": [
    "def clean_data(data):\n",
    "    # Calcular el número de valores faltantes por columna\n",
    "    missing_values = data.isnull().sum()\n",
    "    \n",
    "    # Filtrar solo las columnas con valores faltantes\n",
    "    columns_with_missing = missing_values[missing_values > 0]\n",
    "    \n",
    "    # Imprimir el resultado\n",
    "    print(\"Valores faltantes por columna:\")\n",
    "    print(columns_with_missing)\n",
    "    \n",
    "    # Mostrar el porcentaje de valores faltantes para tener más contexto\n",
    "    percent_missing = (columns_with_missing / len(data)) * 100\n",
    "    print(\"\\nPorcentaje de valores faltantes por columna:\")\n",
    "    print(percent_missing)\n",
    "    \n",
    "    categorical_cols = ['Sex', 'Housing', 'Saving accounts', 'Checking account', 'Purpose']\n",
    "    cat_imputer = SimpleImputer(strategy='most_frequent')\n",
    "    data[categorical_cols] = cat_imputer.fit_transform(data[categorical_cols])\n",
    "    \n",
    "    # Calcular el número de valores faltantes por columna\n",
    "    missing_values = data.isnull().sum()\n",
    "    \n",
    "    # Filtrar solo las columnas con valores faltantes\n",
    "    columns_with_missing = missing_values[missing_values > 0]\n",
    "    \n",
    "    # Imprimir el resultado\n",
    "    print(\"Valores faltantes por columna:\")\n",
    "    print(columns_with_missing)\n",
    "    \n",
    "    # Mostrar el porcentaje de valores faltantes para tener más contexto\n",
    "    percent_missing = (columns_with_missing / len(data)) * 100\n",
    "    print(\"\\nPorcentaje de valores faltantes por columna:\")\n",
    "    print(percent_missing)\n",
    "    \n",
    "    return data\n",
    "    \n",
    "def normalize_data_X(X):    \n",
    "    categorical_cols = [\"Sex\", \"Housing\", \"Saving accounts\", \"Checking account\", \"Purpose\"]\n",
    "    encoder = OneHotEncoder(sparse_output=False, drop=\"first\")\n",
    "    X_encoded = encoder.fit_transform(X[categorical_cols])\n",
    "    encoded_cols = encoder.get_feature_names_out(categorical_cols)\n",
    "    X_encoded = pd.DataFrame(X_encoded, columns=encoded_cols, index=X.index)\n",
    "    \n",
    "    numerical_cols = [\"Age\", \"Job\", \"Credit amount\", \"Duration\"]\n",
    "    scaler = MinMaxScaler()\n",
    "    X_scaled = scaler.fit_transform(X[numerical_cols])\n",
    "    X_scaled = pd.DataFrame(X_scaled, columns=numerical_cols, index=X.index)\n",
    "    \n",
    "    X_preprocessed = pd.concat([X_scaled, X_encoded], axis=1)    \n",
    "    return X_preprocessed\n",
    "\n",
    "clean_data_transformer = FunctionTransformer(clean_data, validate=False)\n",
    "normalize_data_X_transformer = FunctionTransformer(normalize_data_X, validate=False)\n",
    "\n",
    "preprocessing_pipeline = Pipeline(steps=[\n",
    "    (\"clean_data\", clean_data_transformer),\n",
    "    (\"normalization\", normalize_data_X_transformer)\n",
    "])"
   ],
   "id": "236f512e136a65cb",
   "outputs": [],
   "execution_count": 32
  },
  {
   "metadata": {
    "ExecuteTime": {
     "end_time": "2024-12-10T19:39:15.360334Z",
     "start_time": "2024-12-10T19:39:14.610836Z"
    }
   },
   "cell_type": "code",
   "source": [
    "endpoint_name = \"Credit-risk-model-2024-12-10-19-26-49\"\n",
    "predictor = Predictor(endpoint_name=endpoint_name)"
   ],
   "id": "ed567435b2a0c6b5",
   "outputs": [
    {
     "data": {
      "text/plain": [
       "\u001B[2;36m[12/10/24 14:39:14]\u001B[0m\u001B[2;36m \u001B[0m\u001B[1;38;2;0;105;255mINFO    \u001B[0m Found credentials in shared credentials file: ~\u001B[38;2;225;0;225m/.aws/\u001B[0m\u001B[38;2;225;0;225mcredentials\u001B[0m   \u001B]8;id=180854;file://C:\\Users\\kevin\\anaconda3\\envs\\llm-aws\\Lib\\site-packages\\botocore\\credentials.py\u001B\\\u001B[2mcredentials.py\u001B[0m\u001B]8;;\u001B\\\u001B[2m:\u001B[0m\u001B]8;id=965219;file://C:\\Users\\kevin\\anaconda3\\envs\\llm-aws\\Lib\\site-packages\\botocore\\credentials.py#1278\u001B\\\u001B[2m1278\u001B[0m\u001B]8;;\u001B\\\n"
      ],
      "text/html": [
       "<pre style=\"white-space:pre;overflow-x:auto;line-height:normal;font-family:Menlo,'DejaVu Sans Mono',consolas,'Courier New',monospace\"><span style=\"color: #7fbfbf; text-decoration-color: #7fbfbf\">[12/10/24 14:39:14] </span><span style=\"color: #0069ff; text-decoration-color: #0069ff; font-weight: bold\">INFO    </span> Found credentials in shared credentials file: ~<span style=\"color: #e100e1; text-decoration-color: #e100e1\">/.aws/credentials</span>   <a href=\"file://C:\\Users\\kevin\\anaconda3\\envs\\llm-aws\\Lib\\site-packages\\botocore\\credentials.py\" target=\"_blank\"><span style=\"color: #7f7f7f; text-decoration-color: #7f7f7f\">credentials.py</span></a><span style=\"color: #7f7f7f; text-decoration-color: #7f7f7f\">:</span><a href=\"file://C:\\Users\\kevin\\anaconda3\\envs\\llm-aws\\Lib\\site-packages\\botocore\\credentials.py#1278\" target=\"_blank\"><span style=\"color: #7f7f7f; text-decoration-color: #7f7f7f\">1278</span></a>\n",
       "</pre>\n"
      ]
     },
     "metadata": {},
     "output_type": "display_data"
    }
   ],
   "execution_count": 33
  },
  {
   "metadata": {
    "ExecuteTime": {
     "end_time": "2024-12-10T19:39:20.266837Z",
     "start_time": "2024-12-10T19:39:20.217337Z"
    }
   },
   "cell_type": "code",
   "source": [
    "data = pd.read_csv(\"data/raw/credit_risk_reto.csv\")\n",
    "data_processed = preprocessing_pipeline.fit_transform(data)"
   ],
   "id": "ffc23d5df70a0cb6",
   "outputs": [
    {
     "name": "stdout",
     "output_type": "stream",
     "text": [
      "Valores faltantes por columna:\n",
      "Saving accounts     183\n",
      "Checking account    394\n",
      "dtype: int64\n",
      "\n",
      "Porcentaje de valores faltantes por columna:\n",
      "Saving accounts     18.3\n",
      "Checking account    39.4\n",
      "dtype: float64\n",
      "Valores faltantes por columna:\n",
      "Series([], dtype: int64)\n",
      "\n",
      "Porcentaje de valores faltantes por columna:\n",
      "Series([], dtype: float64)\n"
     ]
    }
   ],
   "execution_count": 34
  },
  {
   "metadata": {
    "ExecuteTime": {
     "end_time": "2024-12-10T19:40:00.307835Z",
     "start_time": "2024-12-10T19:40:00.197334Z"
    }
   },
   "cell_type": "code",
   "source": [
    "import numpy as np\n",
    "predictor.serializer = sagemaker.serializers.CSVSerializer()\n",
    "\n",
    "result = predictor.predict(data_processed[0:3].values.tolist())\n",
    "labels = {0: 'good risk', 1: 'bad risk'}\n",
    "result_decoded = [labels[int(value)] for value in eval(result.decode(\"utf-8\"))]\n",
    "print(result_decoded)"
   ],
   "id": "e6757624caae90fc",
   "outputs": [
    {
     "name": "stdout",
     "output_type": "stream",
     "text": [
      "['good risk', 'good risk', 'bad risk']\n"
     ]
    }
   ],
   "execution_count": 39
  },
  {
   "metadata": {},
   "cell_type": "code",
   "outputs": [],
   "execution_count": null,
   "source": "",
   "id": "75de555c74dd0d28"
  }
 ],
 "metadata": {
  "kernelspec": {
   "display_name": "Python 3",
   "language": "python",
   "name": "python3"
  },
  "language_info": {
   "codemirror_mode": {
    "name": "ipython",
    "version": 2
   },
   "file_extension": ".py",
   "mimetype": "text/x-python",
   "name": "python",
   "nbconvert_exporter": "python",
   "pygments_lexer": "ipython2",
   "version": "2.7.6"
  }
 },
 "nbformat": 4,
 "nbformat_minor": 5
}
